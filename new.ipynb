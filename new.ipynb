{
 "cells": [
  {
   "cell_type": "code",
   "execution_count": 3,
   "metadata": {},
   "outputs": [],
   "source": [
    "M_solar = 2 * 10**30 #kg\n",
    "M_BH = 10**7 *M_solar\n",
    "E_p = np.logspace(-3, 6,1000)\n",
    "B = 6 #>6kG\n",
    "gamma_p = 2.1\n",
    "m_p = 0.936#MeV/c^2\n",
    "e = 1\n",
    "q = 5/3 \n",
    "tau_T = 0.5\n",
    "G = 6.67 * 10**-11#m^3/kg s^2\n",
    "L_X = 7 * 10**43 #erg/s\n",
    "eta = 10 * (B/6)**2#B/6(kG)\n",
    "c = 3 * 10**8\n",
    "R_s = (2 * G * M_BH)/c**2\n",
    "R = 17*R_s\n",
    "sigma_T =1\n",
    "n_p = 3**0.5 * tau_T / (sigma_T * R)\n",
    "v_A = B/(4 * np.pi* m_p * n_p)**0.5\n",
    "E_p_max = 3 * 10**5 *(B/10)**4 * (R/(25*R_s))**(5/3) * (M_BH/(2 * 10**7 * M_solar))**(5/3) * (25/eta)**3 * (0.5/tau_T)**(3/2)#(3 * v_A / (eta * c))**(1/(2-q))\n",
    "t_diff = (3 * 3**0.5)/(eta * c) *((e * B * R)/(3**0.5 * E_p))**(1/3)\n",
    "sigma_pp = 1\n",
    "k_pp = 0.5\n",
    "tau_pp = n_p * k_pp * sigma_pp * c *t_diff\n",
    "X = (1-np.exp(-(E_p)/(m_p * c**2))) * (E_p)**-gamma_p * np.exp(-E_p/E_p_max)\n",
    "integrand = E_p * X * (1 - np.exp(-tau_pp))\n",
    "E_nu = 0.5 * (integrand)#E_nu**2 dN_nu/dE_nu"
   ]
  },
  {
   "cell_type": "code",
   "execution_count": 13,
   "metadata": {},
   "outputs": [
    {
     "ename": "TypeError",
     "evalue": "only size-1 arrays can be converted to Python scalars",
     "output_type": "error",
     "traceback": [
      "\u001b[1;31m---------------------------------------------------------------------------\u001b[0m",
      "\u001b[1;31mTypeError\u001b[0m                                 Traceback (most recent call last)",
      "Cell \u001b[1;32mIn[13], line 35\u001b[0m\n\u001b[0;32m     32\u001b[0m     \u001b[38;5;28;01mreturn\u001b[39;00m E_p \u001b[38;5;241m*\u001b[39m X \u001b[38;5;241m*\u001b[39m (\u001b[38;5;241m1\u001b[39m \u001b[38;5;241m-\u001b[39m np\u001b[38;5;241m.\u001b[39mexp(\u001b[38;5;241m-\u001b[39mtau_pp))\n\u001b[0;32m     34\u001b[0m \u001b[38;5;66;03m# 計算積分\u001b[39;00m\n\u001b[1;32m---> 35\u001b[0m results, _ \u001b[38;5;241m=\u001b[39m \u001b[43mquad\u001b[49m\u001b[43m(\u001b[49m\u001b[43mintegrand\u001b[49m\u001b[43m,\u001b[49m\u001b[43m \u001b[49m\u001b[43mE_p\u001b[49m\u001b[43m[\u001b[49m\u001b[38;5;241;43m0\u001b[39;49m\u001b[43m]\u001b[49m\u001b[43m,\u001b[49m\u001b[43m \u001b[49m\u001b[43mE_p\u001b[49m\u001b[43m[\u001b[49m\u001b[38;5;241;43m-\u001b[39;49m\u001b[38;5;241;43m1\u001b[39;49m\u001b[43m]\u001b[49m\u001b[43m)\u001b[49m\n\u001b[0;32m     37\u001b[0m \u001b[38;5;66;03m# 計算 E_nu\u001b[39;00m\n\u001b[0;32m     38\u001b[0m E_nu \u001b[38;5;241m=\u001b[39m \u001b[38;5;241m0.5\u001b[39m \u001b[38;5;241m*\u001b[39m results  \u001b[38;5;66;03m# E_nu**2 dN_nu/dE_nu\u001b[39;00m\n",
      "File \u001b[1;32mc:\\Users\\user\\AppData\\Local\\Programs\\Python\\Python310\\lib\\site-packages\\scipy\\integrate\\_quadpack_py.py:463\u001b[0m, in \u001b[0;36mquad\u001b[1;34m(func, a, b, args, full_output, epsabs, epsrel, limit, points, weight, wvar, wopts, maxp1, limlst, complex_func)\u001b[0m\n\u001b[0;32m    460\u001b[0m     \u001b[38;5;28;01mreturn\u001b[39;00m retval\n\u001b[0;32m    462\u001b[0m \u001b[38;5;28;01mif\u001b[39;00m weight \u001b[38;5;129;01mis\u001b[39;00m \u001b[38;5;28;01mNone\u001b[39;00m:\n\u001b[1;32m--> 463\u001b[0m     retval \u001b[38;5;241m=\u001b[39m \u001b[43m_quad\u001b[49m\u001b[43m(\u001b[49m\u001b[43mfunc\u001b[49m\u001b[43m,\u001b[49m\u001b[43m \u001b[49m\u001b[43ma\u001b[49m\u001b[43m,\u001b[49m\u001b[43m \u001b[49m\u001b[43mb\u001b[49m\u001b[43m,\u001b[49m\u001b[43m \u001b[49m\u001b[43margs\u001b[49m\u001b[43m,\u001b[49m\u001b[43m \u001b[49m\u001b[43mfull_output\u001b[49m\u001b[43m,\u001b[49m\u001b[43m \u001b[49m\u001b[43mepsabs\u001b[49m\u001b[43m,\u001b[49m\u001b[43m \u001b[49m\u001b[43mepsrel\u001b[49m\u001b[43m,\u001b[49m\u001b[43m \u001b[49m\u001b[43mlimit\u001b[49m\u001b[43m,\u001b[49m\n\u001b[0;32m    464\u001b[0m \u001b[43m                   \u001b[49m\u001b[43mpoints\u001b[49m\u001b[43m)\u001b[49m\n\u001b[0;32m    465\u001b[0m \u001b[38;5;28;01melse\u001b[39;00m:\n\u001b[0;32m    466\u001b[0m     \u001b[38;5;28;01mif\u001b[39;00m points \u001b[38;5;129;01mis\u001b[39;00m \u001b[38;5;129;01mnot\u001b[39;00m \u001b[38;5;28;01mNone\u001b[39;00m:\n",
      "File \u001b[1;32mc:\\Users\\user\\AppData\\Local\\Programs\\Python\\Python310\\lib\\site-packages\\scipy\\integrate\\_quadpack_py.py:575\u001b[0m, in \u001b[0;36m_quad\u001b[1;34m(func, a, b, args, full_output, epsabs, epsrel, limit, points)\u001b[0m\n\u001b[0;32m    573\u001b[0m \u001b[38;5;28;01mif\u001b[39;00m points \u001b[38;5;129;01mis\u001b[39;00m \u001b[38;5;28;01mNone\u001b[39;00m:\n\u001b[0;32m    574\u001b[0m     \u001b[38;5;28;01mif\u001b[39;00m infbounds \u001b[38;5;241m==\u001b[39m \u001b[38;5;241m0\u001b[39m:\n\u001b[1;32m--> 575\u001b[0m         \u001b[38;5;28;01mreturn\u001b[39;00m \u001b[43m_quadpack\u001b[49m\u001b[38;5;241;43m.\u001b[39;49m\u001b[43m_qagse\u001b[49m\u001b[43m(\u001b[49m\u001b[43mfunc\u001b[49m\u001b[43m,\u001b[49m\u001b[43ma\u001b[49m\u001b[43m,\u001b[49m\u001b[43mb\u001b[49m\u001b[43m,\u001b[49m\u001b[43margs\u001b[49m\u001b[43m,\u001b[49m\u001b[43mfull_output\u001b[49m\u001b[43m,\u001b[49m\u001b[43mepsabs\u001b[49m\u001b[43m,\u001b[49m\u001b[43mepsrel\u001b[49m\u001b[43m,\u001b[49m\u001b[43mlimit\u001b[49m\u001b[43m)\u001b[49m\n\u001b[0;32m    576\u001b[0m     \u001b[38;5;28;01melse\u001b[39;00m:\n\u001b[0;32m    577\u001b[0m         \u001b[38;5;28;01mreturn\u001b[39;00m _quadpack\u001b[38;5;241m.\u001b[39m_qagie(func,bound,infbounds,args,full_output,epsabs,epsrel,limit)\n",
      "\u001b[1;31mTypeError\u001b[0m: only size-1 arrays can be converted to Python scalars"
     ]
    }
   ],
   "source": [
    "import numpy as np\n",
    "import matplotlib.pyplot as plt\n",
    "from scipy.integrate import quad\n",
    "\n",
    "M_solar = 2 * 10**30 #kg\n",
    "M_BH = 10**7 * M_solar# kg\n",
    "E_p = np.logspace(-3, 6, 1000)#GeV\n",
    "B = 6 # >6kG\n",
    "gamma_p = 2.1\n",
    "m_p = 0.936 # MeV/c^2\n",
    "e = 1 #???\n",
    "q = 5/3 \n",
    "tau_T = 0.5\n",
    "G = 6.67 * 10**-11 # m^3/kg s^2\n",
    "L_X = 7 * 10**43 # erg/s\n",
    "eta = 10 * (B/6)**2 # B/6(kG)\n",
    "c = 3 * 10**8\n",
    "R_s = (2 * G * M_BH) / c**2\n",
    "R = 17 * R_s\n",
    "sigma_T = 1 #??\n",
    "n_p = 3**0.5 * tau_T / (sigma_T * R)\n",
    "v_A = B / (4 * np.pi * m_p * n_p)**0.5\n",
    "E_p_max = 3 * 10**5 * (B/10)**4 * (R/(25 * R_s))**(5/3) * (M_BH/(2 * 10**7 * M_solar))**(5/3) * (25/eta)**3 * (0.5/tau_T)**(3/2)\n",
    "t_diff = (3 * 3**0.5) / (eta * c) * ((e * B * R) / (3**0.5 * E_p))**(1/3)\n",
    "sigma_pp = 1\n",
    "k_pp = 0.5\n",
    "tau_pp = n_p * k_pp * sigma_pp * c * t_diff\n",
    "X = (1 - np.exp(-(E_p) / (m_p * c**2))) * (E_p)**-gamma_p * np.exp(-E_p / E_p_max)\n",
    "\n",
    "# 定義被積函數\n",
    "def integrand(E_p):\n",
    "    return E_p * X * (1 - np.exp(-tau_pp))\n",
    "\n",
    "# 計算積分\n",
    "results, _ = quad(integrand, E_p[0], E_p[-1])\n",
    "\n",
    "# 計算 E_nu\n",
    "E_nu = 0.5 * results  # E_nu**2 dN_nu/dE_nu\n",
    "\n",
    "# 繪製圖形\n",
    "plt.plot(E_p, E_p * X * (1 - np.exp(-tau_pp)), label='E_p * X * (1 - np.exp(-tau_pp))')\n",
    "plt.xlabel('E_p')\n",
    "plt.ylabel('E_p * X * (1 - np.exp(-tau_pp))')\n",
    "plt.title('Plot of E_p * X * (1 - np.exp(-tau_pp)) with respect to E_p')\n",
    "plt.legend()\n",
    "plt.show()\n"
   ]
  }
 ],
 "metadata": {
  "kernelspec": {
   "display_name": "Python 3",
   "language": "python",
   "name": "python3"
  },
  "language_info": {
   "codemirror_mode": {
    "name": "ipython",
    "version": 3
   },
   "file_extension": ".py",
   "mimetype": "text/x-python",
   "name": "python",
   "nbconvert_exporter": "python",
   "pygments_lexer": "ipython3",
   "version": "3.10.6"
  }
 },
 "nbformat": 4,
 "nbformat_minor": 2
}
