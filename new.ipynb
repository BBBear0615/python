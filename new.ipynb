{
 "cells": [
  {
   "cell_type": "code",
   "execution_count": 2,
   "metadata": {},
   "outputs": [],
   "source": [
    "import numpy as np "
   ]
  },
  {
   "cell_type": "code",
   "execution_count": 3,
   "metadata": {},
   "outputs": [],
   "source": [
    "M_BH = \n",
    "B =  #>6kG\n",
    "m_p = 0.936#MeV/c^2\n",
    "q = 5/3\n",
    "tau_T = 0.5\n",
    "G = 6.67 * 10**-11#m^3/kg s^2\n",
    "L_X = 7 * 10**43 #erg/s\n",
    "eta = 10 * (B/6)**2#B/6(kG)\n",
    "c = 3 * 10**8\n",
    "R_s = (2 * G * M_BH)/c**2\n",
    "R = 17*R_s\n",
    "sigma_T = \n",
    "n_p = 3**0.5 * tau_T / (sigma_T * R)\n",
    "v_A = B/(4 * np.pi* m_p * n_p)**0.5\n",
    "E_p = (3 * v_A / (eta * c))**(1/(2-q))\n",
    "t_diff = 3 * 10**5 *(B/10)**4 * (R/(25*R_s))**(5/3) * (M_BH/(2 * 10**7 *M_solar))**(5/3) * (25/eta)**3 * (0.5/tau_T)**(3/2)\n",
    "#(3 * 3**-0.5)/(eta * c) *((e * B * R)/(3**0.5 * E_p))**(1/3)\n",
    "k_pp = 0.5\n",
    "tau_pp = n_pp * k_pp * sigma_pp * c *t_diff"
   ]
  },
  {
   "cell_type": "code",
   "execution_count": 1,
   "metadata": {},
   "outputs": [
    {
     "name": "stdout",
     "output_type": "stream",
     "text": [
      "1.212678125181665\n"
     ]
    }
   ],
   "source": [
    "print(5*(1/17)**0.5)"
   ]
  }
 ],
 "metadata": {
  "kernelspec": {
   "display_name": "Python 3",
   "language": "python",
   "name": "python3"
  },
  "language_info": {
   "codemirror_mode": {
    "name": "ipython",
    "version": 3
   },
   "file_extension": ".py",
   "mimetype": "text/x-python",
   "name": "python",
   "nbconvert_exporter": "python",
   "pygments_lexer": "ipython3",
   "version": "3.10.12"
  }
 },
 "nbformat": 4,
 "nbformat_minor": 2
}
