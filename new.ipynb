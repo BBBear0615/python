{
 "cells": [
  {
   "cell_type": "code",
   "execution_count": 1,
   "metadata": {},
   "outputs": [],
   "source": [
    "import numpy as np\n"
   ]
  },
  {
   "cell_type": "code",
   "execution_count": 2,
   "metadata": {},
   "outputs": [],
   "source": [
    "M_solar = 2 * 10**30 #kg\n",
    "M_BH = 10**7 *M_solar\n",
    "E_p = np.logspace(-3, 6,1000)\n",
    "B = 6 #>6kG\n",
    "gamma_p = 2.1\n",
    "m_p = 0.936#MeV/c^2\n",
    "e = 1\n",
    "q = 5/3 \n",
    "tau_T = 0.5\n",
    "G = 6.67 * 10**-11#m^3/kg s^2\n",
    "L_X = 7 * 10**43 #erg/s\n",
    "eta = 10 * (B/6)**2#B/6(kG)\n",
    "c = 3 * 10**8\n",
    "R_s = (2 * G * M_BH)/c**2\n",
    "R = 17*R_s\n",
    "sigma_T =1\n",
    "n_p = 3**0.5 * tau_T / (sigma_T * R)\n",
    "v_A = B/(4 * np.pi* m_p * n_p)**0.5\n",
    "E_p_max = 3 * 10**5 *(B/10)**4 * (R/(25*R_s))**(5/3) * (M_BH/(2 * 10**7 * M_solar))**(5/3) * (25/eta)**3 * (0.5/tau_T)**(3/2)#(3 * v_A / (eta * c))**(1/(2-q))\n",
    "t_diff = (3 * 3**0.5)/(eta * c) *((e * B * R)/(3**0.5 * E_p))**(1/3)\n",
    "sigma_pp = 1\n",
    "k_pp = 0.5\n",
    "tau_pp = n_p * k_pp * sigma_pp * c *t_diff\n",
    "X = (1-np.exp(-(E_p)/(m_p * c**2))) * (E_p)**-gamma_p * np.exp(-E_p/E_p_max)\n",
    "integrand = E_p * X * (1 - np.exp(-tau_pp))\n",
    "E_nu = 0.5 * (integrand)#E_nu**2 dN_nu/dE_nu"
   ]
  },
  {
   "cell_type": "code",
   "execution_count": 28,
   "metadata": {},
   "outputs": [
    {
     "name": "stderr",
     "output_type": "stream",
     "text": [
      "/tmp/ipykernel_8584/3443317954.py:36: IntegrationWarning: The integral is probably divergent, or slowly convergent.\n",
      "  result, _ = quad(integrand_vectorized, E_p[0], e_val)\n",
      "No artists with labels found to put in legend.  Note that artists whose label start with an underscore are ignored when legend() is called with no argument.\n"
     ]
    },
    {
     "data": {
      "image/png": "[encoded data removed]",
      "text/plain": [
       "<Figure size 640x480 with 1 Axes>"
      ]
     },
     "metadata": {},
     "output_type": "display_data"
    }
   ],
   "source": [
    "import numpy as np\n",
    "import matplotlib.pyplot as plt\n",
    "from scipy.integrate import quad\n",
    "from numpy import vectorize\n",
    "\n",
    "M_solar = 2 * 10**30  * 1.78 * 10**-21# GeV\n",
    "M_BH = 10**7 * M_solar  # GeV\n",
    "E_p = np.logspace(-3, 6, 1000) # GeV\n",
    "B = 6 * 1.95 *10**-17 # >6kG kG-> 1.95 * 10**-17 GeV^-2\n",
    "gamma_p = 2.1\n",
    "m_p = 9.36*10**-4  # GeV/c^2\n",
    "e = 0.30286 # \n",
    "q = 5/3 \n",
    "tau_T = 0.5\n",
    "G = 1.32 * 10**-38  # GeV^-2\n",
    "#L_X = 7 * 10**43  # erg/s\n",
    "eta = 10 * (B/6)**2  # GeV^-2 [B>6(kG)] \n",
    "c = 1#3 * 10**8  m/s check this term if it needs to be unit or not  \n",
    "R_s = (2 * G * M_BH) / c**2\n",
    "R = 17 * R_s\n",
    "sigma_T =  2.611 * 10**-51 # GeV^-2\n",
    "n_p = 3**0.5 * tau_T / (sigma_T * R)\n",
    "#v_A = B / (4 * np.pi * m_p * n_p)**0.5\n",
    "E_p_max = 3 * 10**5 * (B/10)**4 * (R/(25 * R_s))**(5/3) * (M_BH/(2 * 10**7 * M_solar))**(5/3) * (25/eta)**3 * (0.5/tau_T)**(3/2)\n",
    "t_diff = ((3 * 3**0.5) / (eta * c))* ((e * B * R) / (3**0.5 * E_p))**(1/3)\n",
    "sigma_pp = 10**-50\n",
    "\n",
    "k_pp = 0.5\n",
    "tau_pp = n_p * k_pp * sigma_pp * 1.24 * 10**10 * t_diff\n",
    "\n",
    "integrand_vectorized = vectorize(lambda E_p: integrand(E_p)[0])\n",
    "\n",
    "results = []\n",
    "\n",
    "for e_val in E_p:\n",
    "    result, _ = quad(integrand_vectorized, E_p[0], e_val)\n",
    "    results.append(result)\n",
    "\n",
    "E_nu = 0.5 * np.array(results)  # E_nu**2 dN_nu/dE_nu\n",
    "\n",
    "plt.plot(E_p, E_nu, label='')\n",
    "plt.xlabel('E_p')\n",
    "plt.ylabel('')\n",
    "plt.title('')\n",
    "plt.legend()\n",
    "plt.show()"
   ]
  },
  {
   "cell_type": "code",
   "execution_count": null,
   "metadata": {},
   "outputs": [],
   "source": [
    "print(3 * 10**)"
   ]
  }
 ],
 "metadata": {
  "kernelspec": {
   "display_name": "Python 3",
   "language": "python",
   "name": "python3"
  },
  "language_info": {
   "codemirror_mode": {
    "name": "ipython",
    "version": 3
   },
   "file_extension": ".py",
   "mimetype": "text/x-python",
   "name": "python",
   "nbconvert_exporter": "python",
   "pygments_lexer": "ipython3",
   "version": "3.10.12"
  }
 },
 "nbformat": 4,
 "nbformat_minor": 2
}
